{
 "cells": [
  {
   "cell_type": "code",
   "execution_count": 8,
   "metadata": {
    "collapsed": true
   },
   "outputs": [
    {
     "data": {
      "text/plain": [
       "{'1': {'bps_clean_sheets': 12,\n",
       "  'bps_goals_scored': 12,\n",
       "  'scoring_clean_sheets': 4,\n",
       "  'scoring_goals_conceded': -1,\n",
       "  'scoring_goals_scored': 6,\n",
       "  'squad_max_play': 1,\n",
       "  'squad_min_play': 1,\n",
       "  'squad_select': 2,\n",
       "  'sub_positions_locked': [12],\n",
       "  'ui_shirt_specific': True},\n",
       " '2': {'bps_clean_sheets': 12,\n",
       "  'bps_goals_scored': 12,\n",
       "  'scoring_clean_sheets': 4,\n",
       "  'scoring_goals_conceded': -1,\n",
       "  'scoring_goals_scored': 6,\n",
       "  'squad_max_play': 5,\n",
       "  'squad_min_play': 3,\n",
       "  'squad_select': 5},\n",
       " '3': {'bps_clean_sheets': 0,\n",
       "  'bps_goals_scored': 18,\n",
       "  'scoring_clean_sheets': 1,\n",
       "  'scoring_goals_conceded': 0,\n",
       "  'scoring_goals_scored': 5,\n",
       "  'squad_max_play': 5,\n",
       "  'squad_min_play': 2,\n",
       "  'squad_select': 5},\n",
       " '4': {'bps_clean_sheets': 0,\n",
       "  'bps_goals_scored': 24,\n",
       "  'scoring_clean_sheets': 0,\n",
       "  'scoring_goals_conceded': 0,\n",
       "  'scoring_goals_scored': 4,\n",
       "  'squad_max_play': 3,\n",
       "  'squad_min_play': 1,\n",
       "  'squad_select': 3}}"
      ]
     },
     "execution_count": 8,
     "metadata": {},
     "output_type": "execute_result"
    }
   ],
   "source": [
    "import requests\n",
    "import json\n",
    "import pandas as pd\n",
    "from pandas.io.json import json_normalize\n",
    "fpl_data = requests.get('https://fantasy.premierleague.com/drf/bootstrap-static').json()\n",
    "fpl_details = []\n",
    "for i, player in enumerate(fpl_data['elements']):\n",
    "    a_dict = {'player_id': str(player['id'])}\n",
    "    fpl_details.append(requests.get('https://fantasy.premierleague.com/drf/element-summary/' + str(player['id'])).json())\n",
    "    fpl_details[i].update(a_dict)\n",
    "\n",
    "with open('players.json','w') as outfile:\n",
    "    json.dump(fpl_data['elements'],outfile)\n",
    "with open('game-settings.json','w') as outfile:\n",
    "    json.dump(fpl_data['game-settings'],outfile)\n",
    "with open('teams.json','w') as outfile:\n",
    "    json.dump(fpl_data['teams'],outfile)\n",
    "with open('positions.json','w') as outfile:\n",
    "    json.dump(fpl_data['element_types'],outfile)\n",
    "with open('player_details.json','w') as outfile:\n",
    "    json.dump(fpl_details,outfile)"
   ]
  },
  {
   "cell_type": "code",
   "execution_count": 6,
   "metadata": {},
   "outputs": [],
   "source": [
    "import requests\n",
    "import json\n",
    "fpl_data = requests.get('https://fantasy.premierleague.com/drf/bootstrap-static').json()\n",
    "with open('game-settings.json','w') as outfile:\n",
    "    json.dump(fpl_data['game-settings']['element_type'],outfile)\n",
    "fpl_data = requests.get('https://fantasy.premierleague.com/drf/bootstrap-static').json()\n",
    "with open('game-settings-g.json','w') as outfile:\n",
    "    json.dump(fpl_data['game-settings'],outfile)"
   ]
  },
  {
   "cell_type": "code",
   "execution_count": null,
   "metadata": {
    "collapsed": true
   },
   "outputs": [],
   "source": []
  }
 ],
 "metadata": {
  "kernelspec": {
   "display_name": "Python 3",
   "language": "python",
   "name": "python3"
  },
  "language_info": {
   "codemirror_mode": {
    "name": "ipython",
    "version": 3
   },
   "file_extension": ".py",
   "mimetype": "text/x-python",
   "name": "python",
   "nbconvert_exporter": "python",
   "pygments_lexer": "ipython3",
   "version": "3.6.2"
  }
 },
 "nbformat": 4,
 "nbformat_minor": 2
}
