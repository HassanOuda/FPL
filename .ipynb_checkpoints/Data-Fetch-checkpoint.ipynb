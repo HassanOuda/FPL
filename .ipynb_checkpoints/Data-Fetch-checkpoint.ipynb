{
 "cells": [
  {
   "cell_type": "code",
   "execution_count": 1,
   "metadata": {
    "collapsed": true
   },
   "outputs": [],
   "source": [
    "import requests\n",
    "import json\n",
    "import pandas as pd\n",
    "from pandas.io.json import json_normalize\n",
    "fpl_data = requests.get('https://fantasy.premierleague.com/drf/bootstrap-static').json()\n",
    "fpl_details = []\n",
    "for i, player in enumerate(fpl_data['elements']):\n",
    "    a_dict = {'player_id': str(player['id'])}\n",
    "    fpl_details.append(requests.get('https://fantasy.premierleague.com/drf/element-summary/' + str(player['id'])).json())\n",
    "    fpl_details[i].update(a_dict)\n",
    "\n",
    "with open('players.json','w') as outfile:\n",
    "    json.dump(fpl_data['elements'],outfile)\n",
    "with open('game-settings.json','w') as outfile:\n",
    "    json.dump(fpl_data['game-settings'],outfile)\n",
    "with open('teams.json','w') as outfile:\n",
    "    json.dump(fpl_data['teams'],outfile)\n",
    "with open('positions.json','w') as outfile:\n",
    "    json.dump(fpl_data['element_types'],outfile)\n",
    "with open('player_details.json','w') as outfile:\n",
    "    json.dump(fpl_details,outfile)"
   ]
  }
 ],
 "metadata": {
  "kernelspec": {
   "display_name": "Python 3",
   "language": "python",
   "name": "python3"
  },
  "language_info": {
   "codemirror_mode": {
    "name": "ipython",
    "version": 3
   },
   "file_extension": ".py",
   "mimetype": "text/x-python",
   "name": "python",
   "nbconvert_exporter": "python",
   "pygments_lexer": "ipython3",
   "version": "3.6.2"
  }
 },
 "nbformat": 4,
 "nbformat_minor": 2
}
