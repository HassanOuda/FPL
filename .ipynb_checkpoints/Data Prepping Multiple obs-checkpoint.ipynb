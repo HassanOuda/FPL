{
 "cells": [
  {
   "cell_type": "markdown",
   "metadata": {},
   "source": [
    "# average bad points in the past year (over 38 gw) then use randomizer for each gw to see if they get negative points\n",
    "\n",
    "#"
   ]
  },
  {
   "cell_type": "code",
   "execution_count": 338,
   "metadata": {},
   "outputs": [
    {
     "name": "stderr",
     "output_type": "stream",
     "text": [
      "C:\\Users\\ohass\\Anaconda3\\lib\\site-packages\\ipykernel_launcher.py:158: SettingWithCopyWarning: \n",
      "A value is trying to be set on a copy of a slice from a DataFrame.\n",
      "Try using .loc[row_indexer,col_indexer] = value instead\n",
      "\n",
      "See the caveats in the documentation: http://pandas.pydata.org/pandas-docs/stable/indexing.html#indexing-view-versus-copy\n"
     ]
    }
   ],
   "source": [
    "import requests\n",
    "import json\n",
    "import pandas as pd\n",
    "from pandas.io.json import json_normalize\n",
    "from sklearn.preprocessing import LabelEncoder,StandardScaler\n",
    "import numpy as np\n",
    "import matplotlib.pyplot as plt\n",
    "import graphviz \n",
    "from sklearn.naive_bayes import GaussianNB,BernoulliNB\n",
    "from sklearn.datasets import load_digits\n",
    "from sklearn.model_selection import learning_curve,cross_val_score,ShuffleSplit,GridSearchCV\n",
    "from sklearn.linear_model import LinearRegression,LogisticRegression,BayesianRidge\n",
    "from sklearn.cross_validation import KFold   #For K-fold cross validation\n",
    "from sklearn.ensemble import RandomForestClassifier\n",
    "from sklearn.tree import DecisionTreeClassifier, export_graphviz,DecisionTreeRegressor\n",
    "from sklearn.svm import SVR\n",
    "from sklearn import svm,metrics\n",
    "from sklearn.feature_selection import SelectKBest, SelectPercentile, f_classif,SelectFromModel\n",
    "\n",
    "\n",
    "%matplotlib inline\n",
    "\n",
    "with open('player_details.json') as json_data:\n",
    "    d = json.load(json_data)\n",
    "history = json_normalize(d, 'history', ['player_id'])\n",
    "past = json_normalize(d, 'history_past', ['player_id'])\n",
    "data = pd.read_json('players.json',orient='columns')\n",
    "fixtures =  json_normalize(d, 'fixtures', ['player_id'])\n",
    "teams = pd.read_json('teams.json',orient='columns')\n",
    "\n",
    "player_type = pd.read_json('game-settings.json',orient='index')\n",
    "player_type['element_type'] = player_type.index\n",
    "\n",
    "game = pd.read_json('game-settings-g.json',orient='index')\n",
    "\n",
    "\n",
    "def plot_learning_curve(estimator, title, X, y, ylim=None, cv=None,\n",
    "                        n_jobs=1, train_sizes=np.linspace(.1, 1.0, 5)):\n",
    "    plt.figure()\n",
    "    plt.title(title)\n",
    "    if ylim is not None:\n",
    "        plt.ylim(*ylim)\n",
    "    plt.xlabel(\"Training examples\")\n",
    "    plt.ylabel(\"Score\")\n",
    "    train_sizes, train_scores, test_scores = learning_curve(\n",
    "        estimator, X, y, cv=cv, n_jobs=n_jobs, train_sizes=train_sizes)\n",
    "    train_scores_mean = np.mean(train_scores, axis=1)\n",
    "    train_scores_std = np.std(train_scores, axis=1)\n",
    "    test_scores_mean = np.mean(test_scores, axis=1)\n",
    "    test_scores_std = np.std(test_scores, axis=1)\n",
    "    plt.grid()\n",
    "\n",
    "    plt.fill_between(train_sizes, train_scores_mean - train_scores_std,\n",
    "                     train_scores_mean + train_scores_std, alpha=0.1,\n",
    "                     color=\"r\")\n",
    "    plt.fill_between(train_sizes, test_scores_mean - test_scores_std,\n",
    "                     test_scores_mean + test_scores_std, alpha=0.1, color=\"g\")\n",
    "    plt.plot(train_sizes, train_scores_mean, 'o-', color=\"r\",\n",
    "             label=\"Training score\")\n",
    "    plt.plot(train_sizes, test_scores_mean, 'o-', color=\"g\",\n",
    "             label=\"Cross-validation score\")\n",
    "\n",
    "    plt.legend(loc=\"best\")\n",
    "    return plt\n",
    "\n",
    "#Generic function for making a classification model and accessing performance:\n",
    "def classification_model(model, data, X, y):\n",
    "  #Make predictions on training set:\n",
    "  predictions = []\n",
    "  model.fit(X,y)\n",
    "  predictions = model.predict(X)\n",
    "  accuracy = metrics.accuracy_score(predictions,y)\n",
    "  print (\"Accuracy : %s\" % \"{0:.3%}\".format(accuracy))\n",
    "  n_sample = len(data)\n",
    "  X_train = X[:int(.7 * n_sample)]\n",
    "  y_train = y[:int(.7 * n_sample)]\n",
    "  X_test = X[int(.7 * n_sample):]\n",
    "  y_test = y[int(.7 * n_sample):]\n",
    "  model.fit(X_train,y_train)\n",
    "  predictions2 = model.predict(X_test)\n",
    "  accuracy2 = metrics.accuracy_score(predictions2,y_test)\n",
    "  print (\"Accuracy : %s\" % \"{0:.3%}\".format(accuracy2))\n",
    "  plt.scatter(y_test, predictions2)\n",
    "  plt.xlabel('True Values')\n",
    "  plt.ylabel('Predictions')\n",
    "\n",
    "  #Perform k-fold cross-validation with 5 folds\n",
    "  kf = KFold(data.shape[0],n_folds=5)\n",
    "  error = []\n",
    "  for train, test in kf:\n",
    "    # Filter training data\n",
    "    train_predictors = (X.iloc[train,:])\n",
    "    \n",
    "    # The target we're using to train the algorithm.\n",
    "    train_target = y.iloc[train]\n",
    "    \n",
    "    # Training the algorithm using the predictors and target.\n",
    "    model.fit(train_predictors, train_target)\n",
    "    \n",
    "    #Record error from each cross-validation run\n",
    "    error.append(model.score(X.iloc[test,:], y.iloc[test]))\n",
    " \n",
    "  print (\"Cross-Validation Score : %s\" % \"{0:.3%}\".format(np.mean(error)))\n",
    "\n",
    "  #Fit the model again so that it can be refered outside the function:\n",
    "  model.fit(X,y) \n",
    "\n",
    "var_mod = ['photo','web_name','status','first_name','second_name','in_dreamteam','special','news']\n",
    "le = LabelEncoder()\n",
    "for i in var_mod:\n",
    "    data[i] = le.fit_transform(data[i])\n",
    "\n",
    "data['chance_of_playing_next_round'].fillna(100.0,inplace=True)\n",
    "data['chance_of_playing_this_round'].fillna(100.0,inplace=True)\n",
    "data.fillna(0.0,inplace=True)\n",
    "\n",
    "team_avg = data.query('total_points>0')\n",
    "team_avg = team_avg[['team','form']]\n",
    "team_avg = team_avg.groupby(['team'],as_index=False).mean()\n",
    "team_avg.columns = ['team','avg_team_form']\n",
    "data = data.merge(team_avg,how='left',on='team')\n",
    "\n",
    "#past.columns\n",
    "past = past[['assists','bonus','bps','creativity','end_cost','goals_conceded','goals_scored','influence','minutes','own_goals',\n",
    "           'penalties_missed','penalties_saved','red_cards','saves','season','start_cost','threat','total_points','yellow_cards',\n",
    "           'player_id']]\n",
    "past = past.query('season == 11')\n",
    "past.columns = ['past_assists','past_bonus','past_bps','past_creativity','past_end_cost','past_goals_conceded','past_goals_scored',\n",
    "                'past_influence','past_minutes','past_own_goals','past_penalties_missed','past_penalties_saved','past_red_cards',\n",
    "                'past_saves','past_season','past_start_cost','past_threat','past_total_points','past_yellow_cards','id']\n",
    "le = LabelEncoder()\n",
    "past['id'] = le.fit_transform(past['id'])\n",
    "past['past_creativity'] = le.fit_transform(past['past_creativity'])\n",
    "past['past_influence'] = le.fit_transform(past['past_influence'])\n",
    "past['past_threat'] = le.fit_transform(past['past_threat'])\n",
    "data = data.merge(past,how='left',on='id')\n",
    "#data.head()\n",
    "\n",
    "player_type.columns = ['et_bps_clean_sheets','et_bps_goals_scored','et_scoring_clean_sheets','et_scoring_goals_conceded','et_scoring_goals_scored','et_squad_max_play',\n",
    "             'et_squad_min_play','et_squad_select','et_sub_positions_locked','et_ui_shirt_specific','element_type']\n",
    "\n",
    "player_t=player_type[['et_bps_clean_sheets','et_bps_goals_scored','et_scoring_clean_sheets','et_scoring_goals_conceded','et_scoring_goals_scored','et_squad_max_play',\n",
    "             'et_squad_min_play','et_squad_select','element_type' ]]\n",
    "\n",
    "data = data.merge(player_t,how='left',on='element_type')\n",
    "\n",
    "teams.columns = ['team_code', 'current_event_fixture','draw','form','team'\n",
    "                          ,'link_url','loss','team_name','next_event_fixture','played','points'\n",
    "                          ,'position','short_team_name','strength','strength_attack_away',\n",
    "                          'strength_attack_home','strength_defence_away','strength_defence_home','strength_overall_away',\n",
    "                      'strength_overall_home','team_division','unavailable','win']\n",
    "\n",
    "teams_n=teams[['team','strength','strength_attack_away','strength_defence_away','strength_overall_away',\n",
    "               'strength_attack_home','strength_defence_home','strength_overall_home','short_team_name' ]]\n",
    "le = LabelEncoder()\n",
    "val_col = ['short_team_name']\n",
    "for i in val_col:\n",
    "    teams_n[i] = le.fit_transform(teams_n[i])\n",
    "data = data.merge(teams_n,how='left',on='team')"
   ]
  },
  {
   "cell_type": "code",
   "execution_count": 339,
   "metadata": {},
   "outputs": [],
   "source": [
    "#le = LabelEncoder()\n",
    "history['player_id'] = history['player_id'].astype(str).astype(int)\n",
    "#history =history[current_fix.id != 0]\n",
    "history.drop('id', axis=1, inplace=True)\n",
    "history = history.merge(data[['id','team']],how='left',left_on='player_id',right_on='id')\n",
    "history.drop('id', axis=1, inplace=True)\n",
    "team_diff = history.merge(teams_n,how='left',on=['team'])\n",
    "\n",
    "team_diff = team_diff.merge(teams_n,how='left',left_on=['opponent_team'], right_on=['team'])\n",
    "team_diff['strength_diff'] = team_diff['strength_x']-team_diff['strength_y']\n",
    "team_diff['strength_attack_diff'] = np.where(team_diff['was_home']==True, team_diff['strength_attack_home_x']-team_diff['strength_defence_away_y'], team_diff['strength_attack_away_x']-team_diff['strength_defence_home_y'])\n",
    "team_diff['strength_defence_diff'] = np.where(team_diff['was_home']==True, team_diff['strength_defence_home_x']-team_diff['strength_attack_away_y'], team_diff['strength_defence_away_x']-team_diff['strength_attack_home_y'])\n",
    "team_diff['strength_overall_diff'] = np.where(team_diff['was_home']==True, team_diff['strength_overall_home_x']-team_diff['strength_overall_away_y'], team_diff['strength_overall_away_x']-team_diff['strength_overall_home_y'])\n",
    "team_diff['is_active'] = np.where(team_diff['minutes']== 0,0,1)\n",
    "team_diff = team_diff[['opponent_team', 'was_home', 'player_id','round','is_active','total_points','value','transfers_balance','strength_diff','strength_attack_diff',\n",
    "                       'strength_defence_diff','strength_overall_diff']]\n",
    "data = team_diff.merge(data,how='left',left_on='player_id',right_on='id')"
   ]
  },
  {
   "cell_type": "code",
   "execution_count": 340,
   "metadata": {},
   "outputs": [
    {
     "data": {
      "text/plain": [
       "array([-1], dtype=int64)"
      ]
     },
     "execution_count": 340,
     "metadata": {},
     "output_type": "execute_result"
    }
   ],
   "source": [
    "game = game[['scoring_red_cards','scoring_yellow_cards','scoring_penalties_missed','scoring_own_goals']]\n",
    "game['scoring_yellow_cards'].values"
   ]
  },
  {
   "cell_type": "code",
   "execution_count": 344,
   "metadata": {
    "collapsed": true
   },
   "outputs": [],
   "source": [
    "data['past_yellow_cards'] = data['past_yellow_cards'] *game['scoring_yellow_cards'].values\n",
    "data['past_red_cards'] = data['past_red_cards'] *game['scoring_red_cards'].values\n",
    "data['past_penalties_missed'] = data['past_penalties_missed'] *game['scoring_penalties_missed'].values\n",
    "data['past_own_goals'] = data['past_own_goals'] *game['scoring_own_goals'].values"
   ]
  },
  {
   "cell_type": "code",
   "execution_count": 349,
   "metadata": {
    "collapsed": true
   },
   "outputs": [
    {
     "data": {
      "text/html": [
       "<div>\n",
       "<style>\n",
       "    .dataframe thead tr:only-child th {\n",
       "        text-align: right;\n",
       "    }\n",
       "\n",
       "    .dataframe thead th {\n",
       "        text-align: left;\n",
       "    }\n",
       "\n",
       "    .dataframe tbody tr th {\n",
       "        vertical-align: top;\n",
       "    }\n",
       "</style>\n",
       "<table border=\"1\" class=\"dataframe\">\n",
       "  <thead>\n",
       "    <tr style=\"text-align: right;\">\n",
       "      <th></th>\n",
       "      <th>opponent_team</th>\n",
       "      <th>was_home</th>\n",
       "      <th>player_id</th>\n",
       "      <th>round</th>\n",
       "      <th>is_active</th>\n",
       "      <th>total_points_x</th>\n",
       "      <th>value</th>\n",
       "      <th>transfers_balance</th>\n",
       "      <th>strength_diff</th>\n",
       "      <th>strength_attack_diff</th>\n",
       "      <th>...</th>\n",
       "      <th>et_squad_min_play</th>\n",
       "      <th>et_squad_select</th>\n",
       "      <th>strength</th>\n",
       "      <th>strength_attack_away</th>\n",
       "      <th>strength_defence_away</th>\n",
       "      <th>strength_overall_away</th>\n",
       "      <th>strength_attack_home</th>\n",
       "      <th>strength_defence_home</th>\n",
       "      <th>strength_overall_home</th>\n",
       "      <th>short_team_name</th>\n",
       "    </tr>\n",
       "  </thead>\n",
       "  <tbody>\n",
       "    <tr>\n",
       "      <th>1792</th>\n",
       "      <td>3</td>\n",
       "      <td>False</td>\n",
       "      <td>257</td>\n",
       "      <td>1</td>\n",
       "      <td>1</td>\n",
       "      <td>9</td>\n",
       "      <td>115</td>\n",
       "      <td>0</td>\n",
       "      <td>3</td>\n",
       "      <td>380</td>\n",
       "      <td>...</td>\n",
       "      <td>1</td>\n",
       "      <td>3</td>\n",
       "      <td>5</td>\n",
       "      <td>1330</td>\n",
       "      <td>1350</td>\n",
       "      <td>1340</td>\n",
       "      <td>1280</td>\n",
       "      <td>1350</td>\n",
       "      <td>1330</td>\n",
       "      <td>10</td>\n",
       "    </tr>\n",
       "    <tr>\n",
       "      <th>1793</th>\n",
       "      <td>7</td>\n",
       "      <td>True</td>\n",
       "      <td>257</td>\n",
       "      <td>2</td>\n",
       "      <td>1</td>\n",
       "      <td>2</td>\n",
       "      <td>115</td>\n",
       "      <td>14866</td>\n",
       "      <td>2</td>\n",
       "      <td>50</td>\n",
       "      <td>...</td>\n",
       "      <td>1</td>\n",
       "      <td>3</td>\n",
       "      <td>5</td>\n",
       "      <td>1330</td>\n",
       "      <td>1350</td>\n",
       "      <td>1340</td>\n",
       "      <td>1280</td>\n",
       "      <td>1350</td>\n",
       "      <td>1330</td>\n",
       "      <td>10</td>\n",
       "    </tr>\n",
       "    <tr>\n",
       "      <th>1794</th>\n",
       "      <td>2</td>\n",
       "      <td>False</td>\n",
       "      <td>257</td>\n",
       "      <td>3</td>\n",
       "      <td>1</td>\n",
       "      <td>1</td>\n",
       "      <td>115</td>\n",
       "      <td>28625</td>\n",
       "      <td>3</td>\n",
       "      <td>310</td>\n",
       "      <td>...</td>\n",
       "      <td>1</td>\n",
       "      <td>3</td>\n",
       "      <td>5</td>\n",
       "      <td>1330</td>\n",
       "      <td>1350</td>\n",
       "      <td>1340</td>\n",
       "      <td>1280</td>\n",
       "      <td>1350</td>\n",
       "      <td>1330</td>\n",
       "      <td>10</td>\n",
       "    </tr>\n",
       "    <tr>\n",
       "      <th>1795</th>\n",
       "      <td>10</td>\n",
       "      <td>True</td>\n",
       "      <td>257</td>\n",
       "      <td>4</td>\n",
       "      <td>1</td>\n",
       "      <td>9</td>\n",
       "      <td>115</td>\n",
       "      <td>-135729</td>\n",
       "      <td>1</td>\n",
       "      <td>-100</td>\n",
       "      <td>...</td>\n",
       "      <td>1</td>\n",
       "      <td>3</td>\n",
       "      <td>5</td>\n",
       "      <td>1330</td>\n",
       "      <td>1350</td>\n",
       "      <td>1340</td>\n",
       "      <td>1280</td>\n",
       "      <td>1350</td>\n",
       "      <td>1330</td>\n",
       "      <td>10</td>\n",
       "    </tr>\n",
       "    <tr>\n",
       "      <th>1796</th>\n",
       "      <td>18</td>\n",
       "      <td>False</td>\n",
       "      <td>257</td>\n",
       "      <td>5</td>\n",
       "      <td>1</td>\n",
       "      <td>20</td>\n",
       "      <td>114</td>\n",
       "      <td>13388</td>\n",
       "      <td>3</td>\n",
       "      <td>320</td>\n",
       "      <td>...</td>\n",
       "      <td>1</td>\n",
       "      <td>3</td>\n",
       "      <td>5</td>\n",
       "      <td>1330</td>\n",
       "      <td>1350</td>\n",
       "      <td>1340</td>\n",
       "      <td>1280</td>\n",
       "      <td>1350</td>\n",
       "      <td>1330</td>\n",
       "      <td>10</td>\n",
       "    </tr>\n",
       "    <tr>\n",
       "      <th>1797</th>\n",
       "      <td>6</td>\n",
       "      <td>True</td>\n",
       "      <td>257</td>\n",
       "      <td>6</td>\n",
       "      <td>1</td>\n",
       "      <td>11</td>\n",
       "      <td>117</td>\n",
       "      <td>773016</td>\n",
       "      <td>3</td>\n",
       "      <td>220</td>\n",
       "      <td>...</td>\n",
       "      <td>1</td>\n",
       "      <td>3</td>\n",
       "      <td>5</td>\n",
       "      <td>1330</td>\n",
       "      <td>1350</td>\n",
       "      <td>1340</td>\n",
       "      <td>1280</td>\n",
       "      <td>1350</td>\n",
       "      <td>1330</td>\n",
       "      <td>10</td>\n",
       "    </tr>\n",
       "    <tr>\n",
       "      <th>1798</th>\n",
       "      <td>5</td>\n",
       "      <td>False</td>\n",
       "      <td>257</td>\n",
       "      <td>7</td>\n",
       "      <td>0</td>\n",
       "      <td>0</td>\n",
       "      <td>116</td>\n",
       "      <td>-757578</td>\n",
       "      <td>0</td>\n",
       "      <td>20</td>\n",
       "      <td>...</td>\n",
       "      <td>1</td>\n",
       "      <td>3</td>\n",
       "      <td>5</td>\n",
       "      <td>1330</td>\n",
       "      <td>1350</td>\n",
       "      <td>1340</td>\n",
       "      <td>1280</td>\n",
       "      <td>1350</td>\n",
       "      <td>1330</td>\n",
       "      <td>10</td>\n",
       "    </tr>\n",
       "  </tbody>\n",
       "</table>\n",
       "<p>7 rows × 105 columns</p>\n",
       "</div>"
      ],
      "text/plain": [
       "      opponent_team  was_home  player_id  round  is_active  total_points_x  \\\n",
       "1792              3     False        257      1          1               9   \n",
       "1793              7      True        257      2          1               2   \n",
       "1794              2     False        257      3          1               1   \n",
       "1795             10      True        257      4          1               9   \n",
       "1796             18     False        257      5          1              20   \n",
       "1797              6      True        257      6          1              11   \n",
       "1798              5     False        257      7          0               0   \n",
       "\n",
       "      value  transfers_balance  strength_diff  strength_attack_diff  \\\n",
       "1792    115                  0              3                   380   \n",
       "1793    115              14866              2                    50   \n",
       "1794    115              28625              3                   310   \n",
       "1795    115            -135729              1                  -100   \n",
       "1796    114              13388              3                   320   \n",
       "1797    117             773016              3                   220   \n",
       "1798    116            -757578              0                    20   \n",
       "\n",
       "           ...         et_squad_min_play  et_squad_select  strength  \\\n",
       "1792       ...                         1                3         5   \n",
       "1793       ...                         1                3         5   \n",
       "1794       ...                         1                3         5   \n",
       "1795       ...                         1                3         5   \n",
       "1796       ...                         1                3         5   \n",
       "1797       ...                         1                3         5   \n",
       "1798       ...                         1                3         5   \n",
       "\n",
       "      strength_attack_away  strength_defence_away  strength_overall_away  \\\n",
       "1792                  1330                   1350                   1340   \n",
       "1793                  1330                   1350                   1340   \n",
       "1794                  1330                   1350                   1340   \n",
       "1795                  1330                   1350                   1340   \n",
       "1796                  1330                   1350                   1340   \n",
       "1797                  1330                   1350                   1340   \n",
       "1798                  1330                   1350                   1340   \n",
       "\n",
       "      strength_attack_home  strength_defence_home  strength_overall_home  \\\n",
       "1792                  1280                   1350                   1330   \n",
       "1793                  1280                   1350                   1330   \n",
       "1794                  1280                   1350                   1330   \n",
       "1795                  1280                   1350                   1330   \n",
       "1796                  1280                   1350                   1330   \n",
       "1797                  1280                   1350                   1330   \n",
       "1798                  1280                   1350                   1330   \n",
       "\n",
       "      short_team_name  \n",
       "1792               10  \n",
       "1793               10  \n",
       "1794               10  \n",
       "1795               10  \n",
       "1796               10  \n",
       "1797               10  \n",
       "1798               10  \n",
       "\n",
       "[7 rows x 105 columns]"
      ]
     },
     "execution_count": 349,
     "metadata": {},
     "output_type": "execute_result"
    }
   ],
   "source": [
    "#data.query('total_points_y ==0')\n",
    "#data.shape\n",
    "#data = data[data.total_points_y != 0]\n",
    "#data.query('player_id ==257')"
   ]
  },
  {
   "cell_type": "code",
   "execution_count": 350,
   "metadata": {
    "collapsed": true
   },
   "outputs": [],
   "source": [
    "outcome_var = 'total_points_x'\n",
    "predictor_var_all = ['is_active',\n",
    "#'chance_of_playing_this_round', 'status',\n",
    "'element_type','value_season',\n",
    "\n",
    "'et_bps_clean_sheets','et_bps_goals_scored','et_scoring_clean_sheets',\n",
    "'et_scoring_goals_conceded','et_scoring_goals_scored','et_squad_max_play','et_squad_min_play','et_squad_select',\n",
    "\n",
    "#'past_assists','past_bonus','past_bps','past_creativity','past_end_cost','past_goals_conceded','past_goals_scored',\n",
    "#'past_influence','past_minutes','past_own_goals','past_penalties_missed','past_penalties_saved','past_red_cards',\n",
    "#'past_saves','past_season','past_start_cost','past_threat','past_total_points','past_yellow_cards',\n",
    "\n",
    "'past_own_goals','past_penalties_missed','past_red_cards','past_yellow_cards',\n",
    "                     \n",
    "#'team','strength','strength_attack_away',\n",
    "#'strength_attack_home','strength_defence_away','strength_defence_home','strength_overall_away',\n",
    "#'strength_overall_home','short_team_name',\n",
    "'avg_team_form',\n",
    "\n",
    "'value','transfers_balance','opponent_team', 'was_home','strength_diff','strength_attack_diff',\n",
    "'strength_defence_diff','strength_overall_diff']"
   ]
  },
  {
   "cell_type": "code",
   "execution_count": 351,
   "metadata": {
    "collapsed": true
   },
   "outputs": [],
   "source": [
    "data.fillna(0.0,inplace=True)\n",
    "\n",
    "\n",
    "X = data[predictor_var_all]\n",
    "y = data[outcome_var]\n",
    "n_sample = len(data)\n",
    "X_train = X[:int(.8 * n_sample)]\n",
    "y_train = y[:int(.8 * n_sample)]\n",
    "X_test = X[int(.8 * n_sample):]\n",
    "y_test = y[int(.8 * n_sample):]"
   ]
  },
  {
   "cell_type": "code",
   "execution_count": 352,
   "metadata": {},
   "outputs": [
    {
     "name": "stdout",
     "output_type": "stream",
     "text": [
      "Score:0.447461400489\n",
      "Accuracy:0.447461400489\n"
     ]
    },
    {
     "data": {
      "image/png": "[encoded data removed]",
      "text/plain": [
       "<matplotlib.figure.Figure at 0x2ce453bbdd8>"
      ]
     },
     "metadata": {},
     "output_type": "display_data"
    }
   ],
   "source": [
    "model = LinearRegression()\n",
    "#classification_model(model, data,,data[outcome_var])\n",
    "# Train the model using the training sets and check score\n",
    "model.fit(X_train, y_train)\n",
    "model.score(X_train, y_train)\n",
    "predicted= model.predict(X_test)\n",
    "\n",
    "plt.scatter(y_test, predicted)\n",
    "plt.xlabel('True Values')\n",
    "plt.ylabel('Predictions')\n",
    "print ('Score:'+str(model.score(X_test, y_test)))\n",
    "\n",
    "accuracy = metrics.r2_score(y_test, predicted)\n",
    "print('Accuracy:'+str(accuracy))"
   ]
  },
  {
   "cell_type": "code",
   "execution_count": 348,
   "metadata": {},
   "outputs": [
    {
     "name": "stdout",
     "output_type": "stream",
     "text": [
      "Score:0.446462856426\n",
      "Accuracy:0.446462856426\n"
     ]
    },
    {
     "data": {
      "image/png": "[encoded data removed]",
      "text/plain": [
       "<matplotlib.figure.Figure at 0x2ce45e456d8>"
      ]
     },
     "metadata": {},
     "output_type": "display_data"
    }
   ],
   "source": [
    "from sklearn import linear_model\n",
    "model = linear_model.BayesianRidge()\n",
    "#classification_model(model, data,,data[outcome_var])\n",
    "# Train the model using the training sets and check score\n",
    "model.fit(X_train, y_train)\n",
    "model.score(X_train, y_train)\n",
    "predicted= model.predict(X_test)\n",
    "\n",
    "plt.scatter(y_test, predicted)\n",
    "plt.xlabel('True Values')\n",
    "plt.ylabel('Predictions')\n",
    "print ('Score:'+str(model.score(X_test, y_test)))\n",
    "\n",
    "accuracy = metrics.r2_score(y_test, predicted)\n",
    "print('Accuracy:'+str(accuracy))"
   ]
  },
  {
   "cell_type": "code",
   "execution_count": 275,
   "metadata": {},
   "outputs": [
    {
     "name": "stdout",
     "output_type": "stream",
     "text": [
      "Score:0.733688415446\n",
      "Accuracy:0.272145299058\n"
     ]
    },
    {
     "data": {
      "image/png": "[encoded data removed]",
      "text/plain": [
       "<matplotlib.figure.Figure at 0x2ce4a16df98>"
      ]
     },
     "metadata": {},
     "output_type": "display_data"
    }
   ],
   "source": [
    "model = LogisticRegression()\n",
    "#classification_model(model, data,,data[outcome_var])\n",
    "# Train the model using the training sets and check score\n",
    "model.fit(X_train, y_train)\n",
    "model.score(X_train, y_train)\n",
    "#Equation coefficient and Intercept\n",
    "#print('Coefficient: \\n', model.coef_)\n",
    "#print('Intercept: \\n', model.intercept_)\n",
    "#Predict Output\n",
    "predicted= model.predict(X_test)\n",
    "\n",
    "plt.scatter(y_test, predicted)\n",
    "plt.xlabel('True Values')\n",
    "plt.ylabel('Predictions')\n",
    "print ('Score:'+str(model.score(X_test, y_test)))\n",
    "\n",
    "accuracy = metrics.r2_score(y_test, predicted)\n",
    "print('Accuracy:'+str(accuracy))"
   ]
  },
  {
   "cell_type": "code",
   "execution_count": 276,
   "metadata": {},
   "outputs": [
    {
     "name": "stdout",
     "output_type": "stream",
     "text": [
      "Score:0.504189883898\n",
      "Accuracy:0.504189883898\n"
     ]
    },
    {
     "data": {
      "image/png": "[encoded data removed]",
      "text/plain": [
       "<matplotlib.figure.Figure at 0x2ce44dc8358>"
      ]
     },
     "metadata": {},
     "output_type": "display_data"
    }
   ],
   "source": [
    "model2 = DecisionTreeRegressor(max_leaf_nodes  = 70)\n",
    "# Train the model using the training sets and check score\n",
    "model2.fit(X_train, y_train)\n",
    "model2.score(X_train, y_train)\n",
    "#Predict Output\n",
    "predicted= model2.predict(X_test)\n",
    "plt.scatter(y_test, predicted)\n",
    "plt.xlabel('True Values')\n",
    "plt.ylabel('Predictions')\n",
    "print ('Score:'+str(model2.score(X_test, y_test)))\n",
    "\n",
    "accuracy = metrics.r2_score(y_test, predicted)\n",
    "print('Accuracy:'+str(accuracy))"
   ]
  },
  {
   "cell_type": "code",
   "execution_count": 278,
   "metadata": {},
   "outputs": [
    {
     "name": "stdout",
     "output_type": "stream",
     "text": [
      "Score:0.424430058029\n",
      "Accuracy:0.424430058029\n"
     ]
    },
    {
     "data": {
      "image/png": "[encoded data removed]",
      "text/plain": [
       "<matplotlib.figure.Figure at 0x2ce4da52fd0>"
      ]
     },
     "metadata": {},
     "output_type": "display_data"
    }
   ],
   "source": [
    "scaler = StandardScaler()\n",
    "Xnew = scaler.fit_transform(X)\n",
    "Xnew2 = pd.DataFrame(Xnew)\n",
    "X_train2 = Xnew2[:int(.8 * n_sample)]\n",
    "X_test2 = Xnew2[int(.8 * n_sample):]\n",
    "\n",
    "model3 = svm.SVR()#C=50,gamma=0.01)\n",
    "# Train the model using the training sets and check score\n",
    "model3.fit(X_train2, y_train)\n",
    "model3.score(X_train2, y_train)\n",
    "#Predict Output\n",
    "predicted= model3.predict(X_test2)\n",
    "plt.scatter(y_test, predicted)\n",
    "plt.xlabel('True Values')\n",
    "plt.ylabel('Predictions')\n",
    "print ('Score:'+str(model3.score(X_test2, y_test)))\n",
    "\n",
    "accuracy = metrics.r2_score(y_test, predicted)\n",
    "print('Accuracy:'+str(accuracy))"
   ]
  },
  {
   "cell_type": "code",
   "execution_count": 168,
   "metadata": {},
   "outputs": [
    {
     "name": "stderr",
     "output_type": "stream",
     "text": [
      "C:\\Users\\ohass\\Anaconda3\\lib\\site-packages\\sklearn\\model_selection\\_split.py:597: Warning: The least populated class in y has only 1 members, which is too few. The minimum number of members in any class cannot be less than n_splits=3.\n",
      "  % (min_groups, self.n_splits)), Warning)\n"
     ]
    },
    {
     "name": "stdout",
     "output_type": "stream",
     "text": [
      "SVC(C=50, cache_size=200, class_weight='balanced', coef0=0.0,\n",
      "  decision_function_shape='ovr', degree=3, gamma=0.01, kernel='rbf',\n",
      "  max_iter=-1, probability=False, random_state=None, shrinking=True,\n",
      "  tol=0.001, verbose=False)\n"
     ]
    }
   ],
   "source": [
    "params_grid = {'C': [0.001, 0.01, 0.1,0.8, 1,5, 10,50, 100],\n",
    "          'gamma': [0.0001, 0.001, 0.01, 0.1,1],\n",
    "          'kernel':['rbf'] }\n",
    "#Create the GridSearchCV object\n",
    "grid_clf = GridSearchCV(svm.SVC(class_weight='balanced'), params_grid)\n",
    "\n",
    "#Fit the data with the best possible parameters\n",
    "grid_clf = grid_clf.fit(Xnew, data[outcome_var])\n",
    "\n",
    "#Print the best estimator with it's parameters\n",
    "print (grid_clf.best_estimator_)"
   ]
  },
  {
   "cell_type": "code",
   "execution_count": 279,
   "metadata": {},
   "outputs": [
    {
     "name": "stdout",
     "output_type": "stream",
     "text": [
      "Accuracy : 69.696%\n",
      "Accuracy : 67.140%\n",
      "Cross-Validation Score : 61.941%\n"
     ]
    },
    {
     "data": {
      "image/png": "[encoded data removed]",
      "text/plain": [
       "<matplotlib.figure.Figure at 0x2ce4df33f28>"
      ]
     },
     "metadata": {},
     "output_type": "display_data"
    }
   ],
   "source": [
    "scaler = StandardScaler()\n",
    "X = scaler.fit_transform(data[predictor_var_all])\n",
    "Xnew = pd.DataFrame(X)\n",
    "\n",
    "model2 = svm.SVC(C=50, cache_size=200, class_weight='balanced', coef0=0.0,\n",
    "  decision_function_shape='ovr', degree=3, gamma=0.01, kernel='rbf',\n",
    "  max_iter=-1, probability=False, random_state=None, shrinking=True,\n",
    "  tol=0.001, verbose=False)\n",
    "classification_model(model2, data,Xnew,data[outcome_var])\n",
    "\n",
    "#cv = ShuffleSplit(n_splits=10, test_size=0.2, random_state=0)\n",
    "#plot_learning_curve(model3, 'SVC', Xnew, data[outcome_var], ylim=(0.3, 1.01), cv=cv, n_jobs=4)\n",
    "#plt.show()"
   ]
  },
  {
   "cell_type": "code",
   "execution_count": 280,
   "metadata": {},
   "outputs": [
    {
     "name": "stdout",
     "output_type": "stream",
     "text": [
      "Accuracy : 76.306%\n",
      "Accuracy : 69.893%\n",
      "Cross-Validation Score : 68.257%\n"
     ]
    },
    {
     "data": {
      "image/png": "[encoded data removed]",
      "text/plain": [
       "<matplotlib.figure.Figure at 0x2ce4dbaa550>"
      ]
     },
     "metadata": {},
     "output_type": "display_data"
    }
   ],
   "source": [
    "model3 = DecisionTreeClassifier(max_leaf_nodes  = 70)\n",
    "classification_model(model3, data,data[predictor_var_all],data[outcome_var])\n",
    "m = SelectFromModel(model3, prefit=True)\n",
    "#X_new2 = m.transform(data[predictor_var_all])\n",
    "#Xnew2 = pd.DataFrame(X_new2)\n",
    "#classification_model(model3, data,Xnew2,data[outcome_var])\n",
    "\n",
    "#cv = ShuffleSplit(n_splits=100, test_size=0.3, random_state=0)\n",
    "#plot_learning_curve(model3, 'Decision Tree 1', data[predictor_var_all], data[outcome_var], ylim=(0.3, 1.01), cv=cv, n_jobs=4)\n",
    "#plt.show()\n",
    "\n",
    "#featimp = pd.Series(model3.feature_importances_, index=predictor_var_all).sort_values(ascending=False)\n",
    "#print (featimp)"
   ]
  },
  {
   "cell_type": "code",
   "execution_count": 281,
   "metadata": {},
   "outputs": [
    {
     "name": "stdout",
     "output_type": "stream",
     "text": [
      "Accuracy : 98.614%\n",
      "Accuracy : 71.226%\n",
      "Cross-Validation Score : 67.218%\n"
     ]
    },
    {
     "data": {
      "image/png": "[encoded data removed]",
      "text/plain": [
       "<matplotlib.figure.Figure at 0x2ce4e4abb00>"
      ]
     },
     "metadata": {},
     "output_type": "display_data"
    }
   ],
   "source": [
    "model4 = RandomForestClassifier()#n_estimators=50,max_leaf_nodes=100)#max_features='log2')\n",
    "classification_model(model4, data,data[predictor_var_all],data[outcome_var])\n",
    "\n",
    "#cv = ShuffleSplit(n_splits=100, test_size=0.3, random_state=0)\n",
    "#plot_learning_curve(model4, 'Random Forest', data[predictor_var_all], data[outcome_var], ylim=(0.3, 1.01), cv=cv, n_jobs=4)\n",
    "#plt.show()"
   ]
  }
 ],
 "metadata": {
  "kernelspec": {
   "display_name": "Python 3",
   "language": "python",
   "name": "python3"
  },
  "language_info": {
   "codemirror_mode": {
    "name": "ipython",
    "version": 3
   },
   "file_extension": ".py",
   "mimetype": "text/x-python",
   "name": "python",
   "nbconvert_exporter": "python",
   "pygments_lexer": "ipython3",
   "version": "3.6.2"
  }
 },
 "nbformat": 4,
 "nbformat_minor": 2
}
