{
 "cells": [
  {
   "cell_type": "code",
   "execution_count": 240,
   "metadata": {},
   "outputs": [
    {
     "name": "stderr",
     "output_type": "stream",
     "text": [
      "C:\\Users\\ohass\\Anaconda3\\lib\\site-packages\\ipykernel_launcher.py:143: SettingWithCopyWarning: \n",
      "A value is trying to be set on a copy of a slice from a DataFrame.\n",
      "Try using .loc[row_indexer,col_indexer] = value instead\n",
      "\n",
      "See the caveats in the documentation: http://pandas.pydata.org/pandas-docs/stable/indexing.html#indexing-view-versus-copy\n"
     ]
    }
   ],
   "source": [
    "import requests\n",
    "import json\n",
    "import pandas as pd\n",
    "from pandas.io.json import json_normalize\n",
    "from sklearn.preprocessing import LabelEncoder,StandardScaler\n",
    "import numpy as np\n",
    "import matplotlib.pyplot as plt\n",
    "import graphviz \n",
    "from sklearn.naive_bayes import GaussianNB,BernoulliNB\n",
    "from sklearn.datasets import load_digits\n",
    "from sklearn.model_selection import learning_curve,cross_val_score,ShuffleSplit,GridSearchCV\n",
    "from sklearn.linear_model import LinearRegression,LogisticRegression,BayesianRidge\n",
    "from sklearn.cross_validation import KFold   #For K-fold cross validation\n",
    "from sklearn.ensemble import RandomForestClassifier\n",
    "from sklearn.tree import DecisionTreeClassifier, export_graphviz,DecisionTreeRegressor\n",
    "from sklearn.svm import SVR\n",
    "from sklearn import svm,metrics\n",
    "from sklearn.feature_selection import SelectKBest, SelectPercentile, f_classif,SelectFromModel\n",
    "\n",
    "\n",
    "%matplotlib inline\n",
    "\n",
    "with open('player_details.json') as json_data:\n",
    "    d = json.load(json_data)\n",
    "history = json_normalize(d, 'history', ['player_id'])\n",
    "past = json_normalize(d, 'history_past', ['player_id'])\n",
    "data = pd.read_json('players.json',orient='columns')\n",
    "fixtures =  json_normalize(d, 'fixtures', ['player_id'])\n",
    "teams = pd.read_json('teams.json',orient='columns')\n",
    "\n",
    "player_type = pd.read_json('game-settings.json',orient='index')\n",
    "player_type['element_type'] = player_type.index\n",
    "\n",
    "def plot_learning_curve(estimator, title, X, y, ylim=None, cv=None,\n",
    "                        n_jobs=1, train_sizes=np.linspace(.1, 1.0, 5)):\n",
    "    plt.figure()\n",
    "    plt.title(title)\n",
    "    if ylim is not None:\n",
    "        plt.ylim(*ylim)\n",
    "    plt.xlabel(\"Training examples\")\n",
    "    plt.ylabel(\"Score\")\n",
    "    train_sizes, train_scores, test_scores = learning_curve(\n",
    "        estimator, X, y, cv=cv, n_jobs=n_jobs, train_sizes=train_sizes)\n",
    "    train_scores_mean = np.mean(train_scores, axis=1)\n",
    "    train_scores_std = np.std(train_scores, axis=1)\n",
    "    test_scores_mean = np.mean(test_scores, axis=1)\n",
    "    test_scores_std = np.std(test_scores, axis=1)\n",
    "    plt.grid()\n",
    "\n",
    "    plt.fill_between(train_sizes, train_scores_mean - train_scores_std,\n",
    "                     train_scores_mean + train_scores_std, alpha=0.1,\n",
    "                     color=\"r\")\n",
    "    plt.fill_between(train_sizes, test_scores_mean - test_scores_std,\n",
    "                     test_scores_mean + test_scores_std, alpha=0.1, color=\"g\")\n",
    "    plt.plot(train_sizes, train_scores_mean, 'o-', color=\"r\",\n",
    "             label=\"Training score\")\n",
    "    plt.plot(train_sizes, test_scores_mean, 'o-', color=\"g\",\n",
    "             label=\"Cross-validation score\")\n",
    "\n",
    "    plt.legend(loc=\"best\")\n",
    "    return plt\n",
    "\n",
    "#Generic function for making a classification model and accessing performance:\n",
    "def classification_model(model, data, X, y):\n",
    "  #Make predictions on training set:\n",
    "  predictions = []\n",
    "  model.fit(X,y)\n",
    "  predictions = model.predict(X)\n",
    "  accuracy = metrics.accuracy_score(predictions,y)\n",
    "  print (\"Accuracy : %s\" % \"{0:.3%}\".format(accuracy))\n",
    "  \n",
    "  #Perform k-fold cross-validation with 5 folds\n",
    "  kf = KFold(data.shape[0],n_folds=5)\n",
    "  error = []\n",
    "  for train, test in kf:\n",
    "    # Filter training data\n",
    "    train_predictors = (X.iloc[train,:])\n",
    "    \n",
    "    # The target we're using to train the algorithm.\n",
    "    train_target = y.iloc[train]\n",
    "    \n",
    "    # Training the algorithm using the predictors and target.\n",
    "    model.fit(train_predictors, train_target)\n",
    "    \n",
    "    #Record error from each cross-validation run\n",
    "    error.append(model.score(X.iloc[test,:], y.iloc[test]))\n",
    " \n",
    "  print (\"Cross-Validation Score : %s\" % \"{0:.3%}\".format(np.mean(error)))\n",
    "\n",
    "  #Fit the model again so that it can be refered outside the function:\n",
    "  model.fit(X,y) \n",
    "\n",
    "var_mod = ['photo','web_name','status','first_name','second_name','in_dreamteam','special','news']\n",
    "le = LabelEncoder()\n",
    "for i in var_mod:\n",
    "    data[i] = le.fit_transform(data[i])\n",
    "\n",
    "data['chance_of_playing_next_round'].fillna(100.0,inplace=True)\n",
    "data['chance_of_playing_this_round'].fillna(100.0,inplace=True)\n",
    "data.fillna(0.0,inplace=True)\n",
    "\n",
    "team_avg = data.query('total_points>0')\n",
    "team_avg = team_avg[['team','form']]\n",
    "team_avg = team_avg.groupby(['team'],as_index=False).mean()\n",
    "team_avg.columns = ['team','avg_team_form']\n",
    "data = data.merge(team_avg,how='left',on='team')\n",
    "\n",
    "#past.columns\n",
    "past = past[['assists','bonus','bps','creativity','end_cost','goals_conceded','goals_scored','influence','minutes','own_goals',\n",
    "           'penalties_missed','penalties_saved','red_cards','saves','season','start_cost','threat','total_points','yellow_cards',\n",
    "           'player_id']]\n",
    "past = past.query('season == 11')\n",
    "past.columns = ['past_assists','past_bonus','past_bps','past_creativity','past_end_cost','past_goals_conceded','past_goals_scored',\n",
    "                'past_influence','past_minutes','past_own_goals','past_penalties_missed','past_penalties_saved','past_red_cards',\n",
    "                'past_saves','past_season','past_start_cost','past_threat','past_total_points','past_yellow_cards','id']\n",
    "le = LabelEncoder()\n",
    "past['id'] = le.fit_transform(past['id'])\n",
    "past['past_creativity'] = le.fit_transform(past['past_creativity'])\n",
    "past['past_influence'] = le.fit_transform(past['past_influence'])\n",
    "past['past_threat'] = le.fit_transform(past['past_threat'])\n",
    "data = data.merge(past,how='left',on='id')\n",
    "#data.head()\n",
    "\n",
    "player_type.columns = ['et_bps_clean_sheets','et_bps_goals_scored','et_scoring_clean_sheets','et_scoring_goals_conceded','et_scoring_goals_scored','et_squad_max_play',\n",
    "             'et_squad_min_play','et_squad_select','et_sub_positions_locked','et_ui_shirt_specific','element_type']\n",
    "\n",
    "player_t=player_type[['et_bps_clean_sheets','et_bps_goals_scored','et_scoring_clean_sheets','et_scoring_goals_conceded','et_scoring_goals_scored','et_squad_max_play',\n",
    "             'et_squad_min_play','et_squad_select','element_type' ]]\n",
    "\n",
    "data = data.merge(player_t,how='left',on='element_type')\n",
    "\n",
    "teams.columns = ['team_code', 'current_event_fixture','draw','form','team'\n",
    "                          ,'link_url','loss','team_name','next_event_fixture','played','points'\n",
    "                          ,'position','short_team_name','strength','strength_attack_away',\n",
    "                          'strength_attack_home','strength_defence_away','strength_defence_home','strength_overall_away',\n",
    "                      'strength_overall_home','team_division','unavailable','win']\n",
    "\n",
    "teams_n=teams[['team','strength','strength_attack_away','strength_defence_away','strength_overall_away',\n",
    "               'strength_attack_home','strength_defence_home','strength_overall_home','short_team_name' ]]\n",
    "le = LabelEncoder()\n",
    "val_col = ['short_team_name']\n",
    "for i in val_col:\n",
    "    teams_n[i] = le.fit_transform(teams_n[i])\n",
    "data = data.merge(teams_n,how='left',on='team')"
   ]
  },
  {
   "cell_type": "code",
   "execution_count": 241,
   "metadata": {},
   "outputs": [],
   "source": [
    "#le = LabelEncoder()\n",
    "history['player_id'] = history['player_id'].astype(str).astype(int)\n",
    "#history =history[current_fix.id != 0]\n",
    "history.drop('id', axis=1, inplace=True)\n",
    "history = history.merge(data[['id','team']],how='left',left_on='player_id',right_on='id')\n",
    "history.drop('id', axis=1, inplace=True)\n",
    "team_diff = history.merge(teams_n,how='left',on=['team'])"
   ]
  },
  {
   "cell_type": "code",
   "execution_count": 243,
   "metadata": {},
   "outputs": [],
   "source": [
    "team_diff = team_diff.merge(teams_n,how='left',left_on=['opponent_team'], right_on=['team'])\n",
    "team_diff['strength_diff'] = team_diff['strength_x']-team_diff['strength_y']\n",
    "team_diff['strength_attack_diff'] = np.where(team_diff['was_home']==True, team_diff['strength_attack_home_x']-team_diff['strength_defence_away_y'], team_diff['strength_attack_away_x']-team_diff['strength_defence_home_y'])\n",
    "team_diff['strength_defence_diff'] = np.where(team_diff['was_home']==True, team_diff['strength_defence_home_x']-team_diff['strength_attack_away_y'], team_diff['strength_defence_away_x']-team_diff['strength_attack_home_y'])\n",
    "team_diff['strength_overall_diff'] = np.where(team_diff['was_home']==True, team_diff['strength_overall_home_x']-team_diff['strength_overall_away_y'], team_diff['strength_overall_away_x']-team_diff['strength_overall_home_y'])\n",
    "team_diff = team_diff[['opponent_team', 'was_home', 'player_id','round','total_points','strength_diff','strength_attack_diff',\n",
    "                       'strength_defence_diff','strength_overall_diff']]\n",
    "data = team_diff.merge(data,how='left',left_on='player_id',right_on='id')"
   ]
  },
  {
   "cell_type": "code",
   "execution_count": 85,
   "metadata": {
    "collapsed": true
   },
   "outputs": [],
   "source": [
    "outcome_var = 'rn_total_points'\n",
    "predictor_var_all = [\n",
    "'chance_of_playing_this_round', 'status','element_type',\n",
    "\n",
    "'et_bps_clean_sheets','et_bps_goals_scored','et_scoring_clean_sheets',\n",
    "'et_scoring_goals_conceded','et_scoring_goals_scored','et_squad_max_play','et_squad_min_play','et_squad_select',\n",
    "\n",
    "'past_assists','past_bonus','past_bps','past_creativity','past_end_cost','past_goals_conceded','past_goals_scored',\n",
    "'past_influence','past_minutes','past_own_goals','past_penalties_missed','past_penalties_saved','past_red_cards',\n",
    "'past_saves','past_season','past_start_cost','past_threat','past_total_points','past_yellow_cards',\n",
    "\n",
    "'team','strength','strength_attack_away',\n",
    "'strength_attack_home','strength_defence_away','strength_defence_home','strength_overall_away',\n",
    "'strength_overall_home','short_team_name','avg_team_form',\n",
    "\n",
    "'curr_opponent_team', 'curr_was_home','strength_diff','strength_attack_diff',\n",
    "'strength_defence_diff','strength_overall_diff']"
   ]
  },
  {
   "cell_type": "code",
   "execution_count": 126,
   "metadata": {},
   "outputs": [
    {
     "data": {
      "text/html": [
       "<div>\n",
       "<style>\n",
       "    .dataframe thead tr:only-child th {\n",
       "        text-align: right;\n",
       "    }\n",
       "\n",
       "    .dataframe thead th {\n",
       "        text-align: left;\n",
       "    }\n",
       "\n",
       "    .dataframe tbody tr th {\n",
       "        vertical-align: top;\n",
       "    }\n",
       "</style>\n",
       "<table border=\"1\" class=\"dataframe\">\n",
       "  <thead>\n",
       "    <tr style=\"text-align: right;\">\n",
       "      <th></th>\n",
       "      <th>round</th>\n",
       "      <th>rn_total_points</th>\n",
       "      <th>curr_opponent_team</th>\n",
       "      <th>curr_was_home</th>\n",
       "      <th>id</th>\n",
       "      <th>team</th>\n",
       "    </tr>\n",
       "  </thead>\n",
       "  <tbody>\n",
       "    <tr>\n",
       "      <th>1553</th>\n",
       "      <td>1</td>\n",
       "      <td>0</td>\n",
       "      <td>18</td>\n",
       "      <td>False</td>\n",
       "      <td>222</td>\n",
       "      <td>10.0</td>\n",
       "    </tr>\n",
       "  </tbody>\n",
       "</table>\n",
       "</div>"
      ],
      "text/plain": [
       "      round  rn_total_points  curr_opponent_team  curr_was_home   id  team\n",
       "1553      1                0                  18          False  222  10.0"
      ]
     },
     "execution_count": 126,
     "metadata": {},
     "output_type": "execute_result"
    }
   ],
   "source": [
    "#data.hist(column='rn_total_points', bins=50)\n",
    "history.columns\n",
    "current_fix.query('id==\"222\"')"
   ]
  },
  {
   "cell_type": "code",
   "execution_count": 61,
   "metadata": {
    "collapsed": true
   },
   "outputs": [],
   "source": [
    "data.fillna(0.0,inplace=True)\n"
   ]
  },
  {
   "cell_type": "code",
   "execution_count": 68,
   "metadata": {},
   "outputs": [],
   "source": [
    "X = data[predictor_var_all]\n",
    "y = data[outcome_var]\n",
    "n_sample = len(data)\n",
    "X_train = X[:int(.7 * n_sample)]\n",
    "y_train = y[:int(.7 * n_sample)]\n",
    "X_test = X[int(.7 * n_sample):]\n",
    "y_test = y[int(.7 * n_sample):]"
   ]
  },
  {
   "cell_type": "code",
   "execution_count": 71,
   "metadata": {
    "collapsed": true
   },
   "outputs": [
    {
     "name": "stdout",
     "output_type": "stream",
     "text": [
      "Score:0.559608540925\n",
      "Accuracy:-0.223724032329\n"
     ]
    },
    {
     "data": {
      "image/png": "[encoded data removed]",
      "text/plain": [
       "<matplotlib.figure.Figure at 0x22674bd6978>"
      ]
     },
     "metadata": {},
     "output_type": "display_data"
    }
   ],
   "source": [
    "model = LogisticRegression()\n",
    "#classification_model(model, data,,data[outcome_var])\n",
    "# Train the model using the training sets and check score\n",
    "model.fit(X, y)\n",
    "sc = model.score(X, y)\n",
    "#Equation coefficient and Intercept\n",
    "#print('Coefficient: \\n', model.coef_)\n",
    "#print('Intercept: \\n', model.intercept_)\n",
    "#Predict Output\n",
    "predicted= model.predict(X_test)\n",
    "\n",
    "plt.scatter(y_test, predicted)\n",
    "plt.xlabel('True Values')\n",
    "plt.ylabel('Predictions')\n",
    "print ('Score:'+str(model.score(X_test, y_test)))\n",
    "\n",
    "accuracy = metrics.r2_score(y_test, predicted)\n",
    "print('Accuracy:'+str(accuracy))"
   ]
  },
  {
   "cell_type": "code",
   "execution_count": 77,
   "metadata": {
    "collapsed": true
   },
   "outputs": [
    {
     "name": "stdout",
     "output_type": "stream",
     "text": [
      "Score:-0.982415431087\n",
      "Accuracy:-0.982415431087\n"
     ]
    },
    {
     "data": {
      "image/png": "[encoded data removed]",
      "text/plain": [
       "<matplotlib.figure.Figure at 0x226036b4ac8>"
      ]
     },
     "metadata": {},
     "output_type": "display_data"
    }
   ],
   "source": [
    "model2 = DecisionTreeRegressor()\n",
    "# Train the model using the training sets and check score\n",
    "model2.fit(X_train, y_train)\n",
    "model2.score(X_train, y_train)\n",
    "#Predict Output\n",
    "predicted= model2.predict(X_test)\n",
    "plt.scatter(y_test, predicted)\n",
    "plt.xlabel('True Values')\n",
    "plt.ylabel('Predictions')\n",
    "print ('Score:'+str(model2.score(X_test, y_test)))\n",
    "\n",
    "accuracy = metrics.r2_score(y_test, predicted)\n",
    "print('Accuracy:'+str(accuracy))"
   ]
  },
  {
   "cell_type": "code",
   "execution_count": 78,
   "metadata": {},
   "outputs": [
    {
     "name": "stdout",
     "output_type": "stream",
     "text": [
      "Score:-0.071334766407\n",
      "Accuracy:-0.071334766407\n"
     ]
    },
    {
     "data": {
      "image/png": "[encoded data removed]",
      "text/plain": [
       "<matplotlib.figure.Figure at 0x2260323c668>"
      ]
     },
     "metadata": {},
     "output_type": "display_data"
    }
   ],
   "source": [
    "model3 = svm.SVR()\n",
    "# Train the model using the training sets and check score\n",
    "model3.fit(X_train, y_train)\n",
    "model3.score(X_train, y_train)\n",
    "#Predict Output\n",
    "predicted= model3.predict(X_test)\n",
    "plt.scatter(y_test, predicted)\n",
    "plt.xlabel('True Values')\n",
    "plt.ylabel('Predictions')\n",
    "print ('Score:'+str(model3.score(X_test, y_test)))\n",
    "\n",
    "accuracy = metrics.r2_score(y_test, predicted)\n",
    "print('Accuracy:'+str(accuracy))"
   ]
  },
  {
   "cell_type": "code",
   "execution_count": 41,
   "metadata": {},
   "outputs": [
    {
     "name": "stderr",
     "output_type": "stream",
     "text": [
      "C:\\Users\\ohass\\Anaconda3\\lib\\site-packages\\sklearn\\model_selection\\_split.py:597: Warning: The least populated class in y has only 1 members, which is too few. The minimum number of members in any class cannot be less than n_splits=3.\n",
      "  % (min_groups, self.n_splits)), Warning)\n"
     ]
    },
    {
     "name": "stdout",
     "output_type": "stream",
     "text": [
      "SVC(C=5, cache_size=200, class_weight='balanced', coef0=0.0,\n",
      "  decision_function_shape='ovr', degree=3, gamma=1, kernel='rbf',\n",
      "  max_iter=-1, probability=False, random_state=None, shrinking=True,\n",
      "  tol=0.001, verbose=False)\n"
     ]
    }
   ],
   "source": [
    "scaler = StandardScaler()\n",
    "X = scaler.fit_transform(data[predictor_var_all])\n",
    "Xnew = pd.DataFrame(X)\n",
    "\n",
    "params_grid = {'C': [0.001, 0.01, 0.1,0.8, 1,5, 10,50, 100],\n",
    "          'gamma': [0.0001, 0.001, 0.01, 0.1,1],\n",
    "          'kernel':['rbf'] }\n",
    "#Create the GridSearchCV object\n",
    "grid_clf = GridSearchCV(svm.SVC(class_weight='balanced'), params_grid)\n",
    "\n",
    "#Fit the data with the best possible parameters\n",
    "grid_clf = grid_clf.fit(Xnew, data[outcome_var])\n",
    "\n",
    "#Print the best estimator with it's parameters\n",
    "print (grid_clf.best_estimator_)"
   ]
  },
  {
   "cell_type": "code",
   "execution_count": 42,
   "metadata": {},
   "outputs": [
    {
     "name": "stdout",
     "output_type": "stream",
     "text": [
      "Accuracy : 93.858%\n",
      "Cross-Validation Score : 48.625%\n"
     ]
    }
   ],
   "source": [
    "model2 = svm.SVC(C=5, cache_size=200, class_weight='balanced', coef0=0.0,\n",
    "  decision_function_shape='ovr', degree=3, gamma=1, kernel='rbf',\n",
    "  max_iter=-1, probability=False, random_state=None, shrinking=True,\n",
    "  tol=0.001, verbose=False)\n",
    "classification_model(model2, data,Xnew,data[outcome_var])"
   ]
  },
  {
   "cell_type": "code",
   "execution_count": 219,
   "metadata": {},
   "outputs": [
    {
     "name": "stdout",
     "output_type": "stream",
     "text": [
      "Accuracy : 99.097%\n",
      "Cross-Validation Score : 38.446%\n"
     ]
    },
    {
     "ename": "IndexError",
     "evalue": "string index out of range",
     "output_type": "error",
     "traceback": [
      "\u001b[1;31m---------------------------------------------------------------------------\u001b[0m",
      "\u001b[1;31mIndexError\u001b[0m                                Traceback (most recent call last)",
      "\u001b[1;32m<ipython-input-219-828f4af8ef5a>\u001b[0m in \u001b[0;36m<module>\u001b[1;34m()\u001b[0m\n\u001b[0;32m     11\u001b[0m                          \u001b[0mclass_names\u001b[0m\u001b[1;33m=\u001b[0m\u001b[0moutcome_var\u001b[0m\u001b[1;33m,\u001b[0m\u001b[1;33m\u001b[0m\u001b[0m\n\u001b[0;32m     12\u001b[0m                          \u001b[0mfilled\u001b[0m\u001b[1;33m=\u001b[0m\u001b[1;32mTrue\u001b[0m\u001b[1;33m,\u001b[0m \u001b[0mrounded\u001b[0m\u001b[1;33m=\u001b[0m\u001b[1;32mTrue\u001b[0m\u001b[1;33m,\u001b[0m\u001b[1;33m\u001b[0m\u001b[0m\n\u001b[1;32m---> 13\u001b[1;33m                          special_characters=True) \n\u001b[0m\u001b[0;32m     14\u001b[0m \u001b[0mgraph\u001b[0m \u001b[1;33m=\u001b[0m \u001b[0mgraphviz\u001b[0m\u001b[1;33m.\u001b[0m\u001b[0mSource\u001b[0m\u001b[1;33m(\u001b[0m\u001b[0mdot_data\u001b[0m\u001b[1;33m)\u001b[0m\u001b[1;33m\u001b[0m\u001b[0m\n\u001b[0;32m     15\u001b[0m \u001b[0mgraph\u001b[0m\u001b[1;33m\u001b[0m\u001b[0m\n",
      "\u001b[1;32m~\\Anaconda3\\lib\\site-packages\\sklearn\\tree\\export.py\u001b[0m in \u001b[0;36mexport_graphviz\u001b[1;34m(decision_tree, out_file, max_depth, feature_names, class_names, label, filled, leaves_parallel, impurity, node_ids, proportion, rotate, rounded, special_characters, precision)\u001b[0m\n\u001b[0;32m    462\u001b[0m             \u001b[0mrecurse\u001b[0m\u001b[1;33m(\u001b[0m\u001b[0mdecision_tree\u001b[0m\u001b[1;33m,\u001b[0m \u001b[1;36m0\u001b[0m\u001b[1;33m,\u001b[0m \u001b[0mcriterion\u001b[0m\u001b[1;33m=\u001b[0m\u001b[1;34m\"impurity\"\u001b[0m\u001b[1;33m)\u001b[0m\u001b[1;33m\u001b[0m\u001b[0m\n\u001b[0;32m    463\u001b[0m         \u001b[1;32melse\u001b[0m\u001b[1;33m:\u001b[0m\u001b[1;33m\u001b[0m\u001b[0m\n\u001b[1;32m--> 464\u001b[1;33m             \u001b[0mrecurse\u001b[0m\u001b[1;33m(\u001b[0m\u001b[0mdecision_tree\u001b[0m\u001b[1;33m.\u001b[0m\u001b[0mtree_\u001b[0m\u001b[1;33m,\u001b[0m \u001b[1;36m0\u001b[0m\u001b[1;33m,\u001b[0m \u001b[0mcriterion\u001b[0m\u001b[1;33m=\u001b[0m\u001b[0mdecision_tree\u001b[0m\u001b[1;33m.\u001b[0m\u001b[0mcriterion\u001b[0m\u001b[1;33m)\u001b[0m\u001b[1;33m\u001b[0m\u001b[0m\n\u001b[0m\u001b[0;32m    465\u001b[0m \u001b[1;33m\u001b[0m\u001b[0m\n\u001b[0;32m    466\u001b[0m         \u001b[1;31m# If required, draw leaf nodes at same depth as each other\u001b[0m\u001b[1;33m\u001b[0m\u001b[1;33m\u001b[0m\u001b[0m\n",
      "\u001b[1;32m~\\Anaconda3\\lib\\site-packages\\sklearn\\tree\\export.py\u001b[0m in \u001b[0;36mrecurse\u001b[1;34m(tree, node_id, criterion, parent, depth)\u001b[0m\n\u001b[0;32m    375\u001b[0m                         depth=depth + 1)\n\u001b[0;32m    376\u001b[0m                 recurse(tree, right_child, criterion=criterion, parent=node_id,\n\u001b[1;32m--> 377\u001b[1;33m                         depth=depth + 1)\n\u001b[0m\u001b[0;32m    378\u001b[0m \u001b[1;33m\u001b[0m\u001b[0m\n\u001b[0;32m    379\u001b[0m         \u001b[1;32melse\u001b[0m\u001b[1;33m:\u001b[0m\u001b[1;33m\u001b[0m\u001b[0m\n",
      "\u001b[1;32m~\\Anaconda3\\lib\\site-packages\\sklearn\\tree\\export.py\u001b[0m in \u001b[0;36mrecurse\u001b[1;34m(tree, node_id, criterion, parent, depth)\u001b[0m\n\u001b[0;32m    373\u001b[0m             \u001b[1;32mif\u001b[0m \u001b[0mleft_child\u001b[0m \u001b[1;33m!=\u001b[0m \u001b[0m_tree\u001b[0m\u001b[1;33m.\u001b[0m\u001b[0mTREE_LEAF\u001b[0m\u001b[1;33m:\u001b[0m\u001b[1;33m\u001b[0m\u001b[0m\n\u001b[0;32m    374\u001b[0m                 recurse(tree, left_child, criterion=criterion, parent=node_id,\n\u001b[1;32m--> 375\u001b[1;33m                         depth=depth + 1)\n\u001b[0m\u001b[0;32m    376\u001b[0m                 recurse(tree, right_child, criterion=criterion, parent=node_id,\n\u001b[0;32m    377\u001b[0m                         depth=depth + 1)\n",
      "\u001b[1;32m~\\Anaconda3\\lib\\site-packages\\sklearn\\tree\\export.py\u001b[0m in \u001b[0;36mrecurse\u001b[1;34m(tree, node_id, criterion, parent, depth)\u001b[0m\n\u001b[0;32m    375\u001b[0m                         depth=depth + 1)\n\u001b[0;32m    376\u001b[0m                 recurse(tree, right_child, criterion=criterion, parent=node_id,\n\u001b[1;32m--> 377\u001b[1;33m                         depth=depth + 1)\n\u001b[0m\u001b[0;32m    378\u001b[0m \u001b[1;33m\u001b[0m\u001b[0m\n\u001b[0;32m    379\u001b[0m         \u001b[1;32melse\u001b[0m\u001b[1;33m:\u001b[0m\u001b[1;33m\u001b[0m\u001b[0m\n",
      "\u001b[1;32m~\\Anaconda3\\lib\\site-packages\\sklearn\\tree\\export.py\u001b[0m in \u001b[0;36mrecurse\u001b[1;34m(tree, node_id, criterion, parent, depth)\u001b[0m\n\u001b[0;32m    373\u001b[0m             \u001b[1;32mif\u001b[0m \u001b[0mleft_child\u001b[0m \u001b[1;33m!=\u001b[0m \u001b[0m_tree\u001b[0m\u001b[1;33m.\u001b[0m\u001b[0mTREE_LEAF\u001b[0m\u001b[1;33m:\u001b[0m\u001b[1;33m\u001b[0m\u001b[0m\n\u001b[0;32m    374\u001b[0m                 recurse(tree, left_child, criterion=criterion, parent=node_id,\n\u001b[1;32m--> 375\u001b[1;33m                         depth=depth + 1)\n\u001b[0m\u001b[0;32m    376\u001b[0m                 recurse(tree, right_child, criterion=criterion, parent=node_id,\n\u001b[0;32m    377\u001b[0m                         depth=depth + 1)\n",
      "\u001b[1;32m~\\Anaconda3\\lib\\site-packages\\sklearn\\tree\\export.py\u001b[0m in \u001b[0;36mrecurse\u001b[1;34m(tree, node_id, criterion, parent, depth)\u001b[0m\n\u001b[0;32m    373\u001b[0m             \u001b[1;32mif\u001b[0m \u001b[0mleft_child\u001b[0m \u001b[1;33m!=\u001b[0m \u001b[0m_tree\u001b[0m\u001b[1;33m.\u001b[0m\u001b[0mTREE_LEAF\u001b[0m\u001b[1;33m:\u001b[0m\u001b[1;33m\u001b[0m\u001b[0m\n\u001b[0;32m    374\u001b[0m                 recurse(tree, left_child, criterion=criterion, parent=node_id,\n\u001b[1;32m--> 375\u001b[1;33m                         depth=depth + 1)\n\u001b[0m\u001b[0;32m    376\u001b[0m                 recurse(tree, right_child, criterion=criterion, parent=node_id,\n\u001b[0;32m    377\u001b[0m                         depth=depth + 1)\n",
      "\u001b[1;32m~\\Anaconda3\\lib\\site-packages\\sklearn\\tree\\export.py\u001b[0m in \u001b[0;36mrecurse\u001b[1;34m(tree, node_id, criterion, parent, depth)\u001b[0m\n\u001b[0;32m    373\u001b[0m             \u001b[1;32mif\u001b[0m \u001b[0mleft_child\u001b[0m \u001b[1;33m!=\u001b[0m \u001b[0m_tree\u001b[0m\u001b[1;33m.\u001b[0m\u001b[0mTREE_LEAF\u001b[0m\u001b[1;33m:\u001b[0m\u001b[1;33m\u001b[0m\u001b[0m\n\u001b[0;32m    374\u001b[0m                 recurse(tree, left_child, criterion=criterion, parent=node_id,\n\u001b[1;32m--> 375\u001b[1;33m                         depth=depth + 1)\n\u001b[0m\u001b[0;32m    376\u001b[0m                 recurse(tree, right_child, criterion=criterion, parent=node_id,\n\u001b[0;32m    377\u001b[0m                         depth=depth + 1)\n",
      "\u001b[1;32m~\\Anaconda3\\lib\\site-packages\\sklearn\\tree\\export.py\u001b[0m in \u001b[0;36mrecurse\u001b[1;34m(tree, node_id, criterion, parent, depth)\u001b[0m\n\u001b[0;32m    373\u001b[0m             \u001b[1;32mif\u001b[0m \u001b[0mleft_child\u001b[0m \u001b[1;33m!=\u001b[0m \u001b[0m_tree\u001b[0m\u001b[1;33m.\u001b[0m\u001b[0mTREE_LEAF\u001b[0m\u001b[1;33m:\u001b[0m\u001b[1;33m\u001b[0m\u001b[0m\n\u001b[0;32m    374\u001b[0m                 recurse(tree, left_child, criterion=criterion, parent=node_id,\n\u001b[1;32m--> 375\u001b[1;33m                         depth=depth + 1)\n\u001b[0m\u001b[0;32m    376\u001b[0m                 recurse(tree, right_child, criterion=criterion, parent=node_id,\n\u001b[0;32m    377\u001b[0m                         depth=depth + 1)\n",
      "\u001b[1;32m~\\Anaconda3\\lib\\site-packages\\sklearn\\tree\\export.py\u001b[0m in \u001b[0;36mrecurse\u001b[1;34m(tree, node_id, criterion, parent, depth)\u001b[0m\n\u001b[0;32m    373\u001b[0m             \u001b[1;32mif\u001b[0m \u001b[0mleft_child\u001b[0m \u001b[1;33m!=\u001b[0m \u001b[0m_tree\u001b[0m\u001b[1;33m.\u001b[0m\u001b[0mTREE_LEAF\u001b[0m\u001b[1;33m:\u001b[0m\u001b[1;33m\u001b[0m\u001b[0m\n\u001b[0;32m    374\u001b[0m                 recurse(tree, left_child, criterion=criterion, parent=node_id,\n\u001b[1;32m--> 375\u001b[1;33m                         depth=depth + 1)\n\u001b[0m\u001b[0;32m    376\u001b[0m                 recurse(tree, right_child, criterion=criterion, parent=node_id,\n\u001b[0;32m    377\u001b[0m                         depth=depth + 1)\n",
      "\u001b[1;32m~\\Anaconda3\\lib\\site-packages\\sklearn\\tree\\export.py\u001b[0m in \u001b[0;36mrecurse\u001b[1;34m(tree, node_id, criterion, parent, depth)\u001b[0m\n\u001b[0;32m    373\u001b[0m             \u001b[1;32mif\u001b[0m \u001b[0mleft_child\u001b[0m \u001b[1;33m!=\u001b[0m \u001b[0m_tree\u001b[0m\u001b[1;33m.\u001b[0m\u001b[0mTREE_LEAF\u001b[0m\u001b[1;33m:\u001b[0m\u001b[1;33m\u001b[0m\u001b[0m\n\u001b[0;32m    374\u001b[0m                 recurse(tree, left_child, criterion=criterion, parent=node_id,\n\u001b[1;32m--> 375\u001b[1;33m                         depth=depth + 1)\n\u001b[0m\u001b[0;32m    376\u001b[0m                 recurse(tree, right_child, criterion=criterion, parent=node_id,\n\u001b[0;32m    377\u001b[0m                         depth=depth + 1)\n",
      "\u001b[1;32m~\\Anaconda3\\lib\\site-packages\\sklearn\\tree\\export.py\u001b[0m in \u001b[0;36mrecurse\u001b[1;34m(tree, node_id, criterion, parent, depth)\u001b[0m\n\u001b[0;32m    375\u001b[0m                         depth=depth + 1)\n\u001b[0;32m    376\u001b[0m                 recurse(tree, right_child, criterion=criterion, parent=node_id,\n\u001b[1;32m--> 377\u001b[1;33m                         depth=depth + 1)\n\u001b[0m\u001b[0;32m    378\u001b[0m \u001b[1;33m\u001b[0m\u001b[0m\n\u001b[0;32m    379\u001b[0m         \u001b[1;32melse\u001b[0m\u001b[1;33m:\u001b[0m\u001b[1;33m\u001b[0m\u001b[0m\n",
      "\u001b[1;32m~\\Anaconda3\\lib\\site-packages\\sklearn\\tree\\export.py\u001b[0m in \u001b[0;36mrecurse\u001b[1;34m(tree, node_id, criterion, parent, depth)\u001b[0m\n\u001b[0;32m    375\u001b[0m                         depth=depth + 1)\n\u001b[0;32m    376\u001b[0m                 recurse(tree, right_child, criterion=criterion, parent=node_id,\n\u001b[1;32m--> 377\u001b[1;33m                         depth=depth + 1)\n\u001b[0m\u001b[0;32m    378\u001b[0m \u001b[1;33m\u001b[0m\u001b[0m\n\u001b[0;32m    379\u001b[0m         \u001b[1;32melse\u001b[0m\u001b[1;33m:\u001b[0m\u001b[1;33m\u001b[0m\u001b[0m\n",
      "\u001b[1;32m~\\Anaconda3\\lib\\site-packages\\sklearn\\tree\\export.py\u001b[0m in \u001b[0;36mrecurse\u001b[1;34m(tree, node_id, criterion, parent, depth)\u001b[0m\n\u001b[0;32m    375\u001b[0m                         depth=depth + 1)\n\u001b[0;32m    376\u001b[0m                 recurse(tree, right_child, criterion=criterion, parent=node_id,\n\u001b[1;32m--> 377\u001b[1;33m                         depth=depth + 1)\n\u001b[0m\u001b[0;32m    378\u001b[0m \u001b[1;33m\u001b[0m\u001b[0m\n\u001b[0;32m    379\u001b[0m         \u001b[1;32melse\u001b[0m\u001b[1;33m:\u001b[0m\u001b[1;33m\u001b[0m\u001b[0m\n",
      "\u001b[1;32m~\\Anaconda3\\lib\\site-packages\\sklearn\\tree\\export.py\u001b[0m in \u001b[0;36mrecurse\u001b[1;34m(tree, node_id, criterion, parent, depth)\u001b[0m\n\u001b[0;32m    375\u001b[0m                         depth=depth + 1)\n\u001b[0;32m    376\u001b[0m                 recurse(tree, right_child, criterion=criterion, parent=node_id,\n\u001b[1;32m--> 377\u001b[1;33m                         depth=depth + 1)\n\u001b[0m\u001b[0;32m    378\u001b[0m \u001b[1;33m\u001b[0m\u001b[0m\n\u001b[0;32m    379\u001b[0m         \u001b[1;32melse\u001b[0m\u001b[1;33m:\u001b[0m\u001b[1;33m\u001b[0m\u001b[0m\n",
      "\u001b[1;32m~\\Anaconda3\\lib\\site-packages\\sklearn\\tree\\export.py\u001b[0m in \u001b[0;36mrecurse\u001b[1;34m(tree, node_id, criterion, parent, depth)\u001b[0m\n\u001b[0;32m    373\u001b[0m             \u001b[1;32mif\u001b[0m \u001b[0mleft_child\u001b[0m \u001b[1;33m!=\u001b[0m \u001b[0m_tree\u001b[0m\u001b[1;33m.\u001b[0m\u001b[0mTREE_LEAF\u001b[0m\u001b[1;33m:\u001b[0m\u001b[1;33m\u001b[0m\u001b[0m\n\u001b[0;32m    374\u001b[0m                 recurse(tree, left_child, criterion=criterion, parent=node_id,\n\u001b[1;32m--> 375\u001b[1;33m                         depth=depth + 1)\n\u001b[0m\u001b[0;32m    376\u001b[0m                 recurse(tree, right_child, criterion=criterion, parent=node_id,\n\u001b[0;32m    377\u001b[0m                         depth=depth + 1)\n",
      "\u001b[1;32m~\\Anaconda3\\lib\\site-packages\\sklearn\\tree\\export.py\u001b[0m in \u001b[0;36mrecurse\u001b[1;34m(tree, node_id, criterion, parent, depth)\u001b[0m\n\u001b[0;32m    373\u001b[0m             \u001b[1;32mif\u001b[0m \u001b[0mleft_child\u001b[0m \u001b[1;33m!=\u001b[0m \u001b[0m_tree\u001b[0m\u001b[1;33m.\u001b[0m\u001b[0mTREE_LEAF\u001b[0m\u001b[1;33m:\u001b[0m\u001b[1;33m\u001b[0m\u001b[0m\n\u001b[0;32m    374\u001b[0m                 recurse(tree, left_child, criterion=criterion, parent=node_id,\n\u001b[1;32m--> 375\u001b[1;33m                         depth=depth + 1)\n\u001b[0m\u001b[0;32m    376\u001b[0m                 recurse(tree, right_child, criterion=criterion, parent=node_id,\n\u001b[0;32m    377\u001b[0m                         depth=depth + 1)\n",
      "\u001b[1;32m~\\Anaconda3\\lib\\site-packages\\sklearn\\tree\\export.py\u001b[0m in \u001b[0;36mrecurse\u001b[1;34m(tree, node_id, criterion, parent, depth)\u001b[0m\n\u001b[0;32m    330\u001b[0m             out_file.write('%d [label=%s'\n\u001b[0;32m    331\u001b[0m                            % (node_id,\n\u001b[1;32m--> 332\u001b[1;33m                               node_to_str(tree, node_id, criterion)))\n\u001b[0m\u001b[0;32m    333\u001b[0m \u001b[1;33m\u001b[0m\u001b[0m\n\u001b[0;32m    334\u001b[0m             \u001b[1;32mif\u001b[0m \u001b[0mfilled\u001b[0m\u001b[1;33m:\u001b[0m\u001b[1;33m\u001b[0m\u001b[0m\n",
      "\u001b[1;32m~\\Anaconda3\\lib\\site-packages\\sklearn\\tree\\export.py\u001b[0m in \u001b[0;36mnode_to_str\u001b[1;34m(tree, node_id, criterion)\u001b[0m\n\u001b[0;32m    295\u001b[0m                 \u001b[0mnode_string\u001b[0m \u001b[1;33m+=\u001b[0m \u001b[1;34m'class = '\u001b[0m\u001b[1;33m\u001b[0m\u001b[0m\n\u001b[0;32m    296\u001b[0m             \u001b[1;32mif\u001b[0m \u001b[0mclass_names\u001b[0m \u001b[1;32mis\u001b[0m \u001b[1;32mnot\u001b[0m \u001b[1;32mTrue\u001b[0m\u001b[1;33m:\u001b[0m\u001b[1;33m\u001b[0m\u001b[0m\n\u001b[1;32m--> 297\u001b[1;33m                 \u001b[0mclass_name\u001b[0m \u001b[1;33m=\u001b[0m \u001b[0mclass_names\u001b[0m\u001b[1;33m[\u001b[0m\u001b[0mnp\u001b[0m\u001b[1;33m.\u001b[0m\u001b[0margmax\u001b[0m\u001b[1;33m(\u001b[0m\u001b[0mvalue\u001b[0m\u001b[1;33m)\u001b[0m\u001b[1;33m]\u001b[0m\u001b[1;33m\u001b[0m\u001b[0m\n\u001b[0m\u001b[0;32m    298\u001b[0m             \u001b[1;32melse\u001b[0m\u001b[1;33m:\u001b[0m\u001b[1;33m\u001b[0m\u001b[0m\n\u001b[0;32m    299\u001b[0m                 class_name = \"y%s%s%s\" % (characters[1],\n",
      "\u001b[1;31mIndexError\u001b[0m: string index out of range"
     ]
    }
   ],
   "source": [
    "from sklearn.feature_selection import SelectFromModel\n",
    "\n",
    "model3 = DecisionTreeClassifier()\n",
    "classification_model(model3, data,data[predictor_var_all],data[outcome_var])\n",
    "#m = SelectFromModel(model3, prefit=True)\n",
    "#X_new2 = m.transform(data[predictor_var_all])\n",
    "#Xnew2 = pd.DataFrame(X_new2)\n",
    "#classification_model(model3, data,Xnew2,data[outcome_var])\n",
    "import graphviz \n",
    "dot_data = export_graphviz(model3, out_file=None,feature_names=predictor_var_all,  \n",
    "                         class_names=outcome_var,  \n",
    "                         filled=True, rounded=True,  \n",
    "                         special_characters=True) \n",
    "graph = graphviz.Source(dot_data) \n",
    "graph\n",
    "#cv = ShuffleSplit(n_splits=50, test_size=0.2, random_state=0)\n",
    "#plot_learning_curve(model3, 'Decision Tree 1', data[predictor_var_all], data[outcome_var], ylim=(0.3, 1.01), cv=cv, n_jobs=4)\n",
    "#plot_learning_curve(model3, 'Decision Tree 2', Xnew2, data[outcome_var], ylim=(0.3, 1.01), cv=cv, n_jobs=4)\n",
    "#plt.show()"
   ]
  },
  {
   "cell_type": "code",
   "execution_count": 171,
   "metadata": {},
   "outputs": [
    {
     "name": "stdout",
     "output_type": "stream",
     "text": [
      "Accuracy : 74.368%\n",
      "Cross-Validation Score : 50.540%\n",
      "Accuracy : 77.617%\n",
      "Cross-Validation Score : 49.273%\n"
     ]
    }
   ],
   "source": [
    "model4 = RandomForestClassifier(n_estimators = 30,max_depth=7)#,max_features='log2')\n",
    "classification_model(model4, data,data[predictor_var_all],data[outcome_var])\n",
    "m = SelectFromModel(model4, prefit=True)\n",
    "X_new2 = m.transform(data[predictor_var_all])\n",
    "Xnew2 = pd.DataFrame(X_new2)\n",
    "classification_model(model4, data,Xnew2,data[outcome_var])"
   ]
  }
 ],
 "metadata": {
  "kernelspec": {
   "display_name": "Python 3",
   "language": "python",
   "name": "python3"
  },
  "language_info": {
   "codemirror_mode": {
    "name": "ipython",
    "version": 3
   },
   "file_extension": ".py",
   "mimetype": "text/x-python",
   "name": "python",
   "nbconvert_exporter": "python",
   "pygments_lexer": "ipython3",
   "version": "3.6.2"
  }
 },
 "nbformat": 4,
 "nbformat_minor": 2
}
